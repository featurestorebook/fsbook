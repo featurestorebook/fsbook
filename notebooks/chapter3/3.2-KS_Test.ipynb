{
 "cells": [
  {
   "cell_type": "code",
   "execution_count": 1,
   "metadata": {},
   "outputs": [],
   "source": [
    "import pandas as pd\n",
    "import numpy as np\n",
    "import matplotlib.pyplot as plt\n",
    "from scipy.stats import ttest_ind\n",
    "import scipy.stats as st\n",
    "\n",
    "%matplotlib inline"
   ]
  },
  {
   "cell_type": "markdown",
   "metadata": {},
   "source": [
    "References:\n",
    "\n",
    "http://www.stats.ox.ac.uk/~massa/Lecture%2013.pdf\n",
    "\n",
    "http://www.physics.csbsju.edu/stats/KS-test.html"
   ]
  },
  {
   "cell_type": "markdown",
   "metadata": {},
   "source": [
    "The Kolmogorov–Smirnov (KS) test is a non parametric and distribution free test: It makes no assumption about the distribution of data.\n",
    "The KS test that can be used to compare a sample with with a reference probability distribution, or to compare two samples. In this first section we are going to justify the need for a KS test and how it can account for shortcomings from the student t-test.\n"
   ]
  },
  {
   "cell_type": "markdown",
   "metadata": {},
   "source": [
    "# Limitations of the t-Test\n",
    "There are situations where we ought to doubt the results of a t-test. The t-test assumes that situations produce normal data that differ only in the sense that the average outcome in one situation is different from the average outcome of the other situation.\n",
    "\n",
    "That being said, if we apply the t-test to data drawn from a non-normal distribution, we are probably increasing the risk of errors. Per the Central Limit Thoerem (CLM), the t-test becomes more robust as the control/treatment groups become sufficiently large. However the t-test can still fail in situations where we have a \"large\" enough sample, the t-test might still be misleading such as observations drawn from a Cauchy distribution."
   ]
  },
  {
   "cell_type": "markdown",
   "metadata": {},
   "source": [
    "## Control and Treatment Groups: do not differ in mean, but only in some other way."
   ]
  },
  {
   "cell_type": "code",
   "execution_count": 2,
   "metadata": {},
   "outputs": [
    {
     "name": "stdout",
     "output_type": "stream",
     "text": [
      "group a: \n",
      "[-0.97079388 -0.95413989 -0.90177231 -0.70069098 -0.54403825 -0.13770138\n",
      " -0.10252937 -0.00285294  0.01758009  0.16207195  0.31834302  0.38965001\n",
      "  0.5493813   0.61040347  0.71767742  0.78448463  1.13705956  1.2974565\n",
      "  1.51649989  1.56767805]\n",
      "group b: \n",
      "[-5.34251149 -4.6976321  -3.57041166 -2.64338191 -2.5386026  -2.03129269\n",
      " -1.8100265  -1.65670432 -0.22010996  0.54380836  0.98609358  1.6089591\n",
      "  1.72254245  2.00266741  2.11424044  2.25389876  3.03823579  3.29064309\n",
      "  3.80891106  7.7445923 ]\n"
     ]
    }
   ],
   "source": [
    "group_a = np.random.normal(loc=0, scale=1.0, size=20)\n",
    "group_b = np.random.normal(loc=0, scale=3.0, size=20)\n",
    "\n",
    "print('group a: \\n{}'.format(np.sort(group_a)))\n",
    "print('group b: \\n{}'.format(np.sort(group_b)))\n"
   ]
  },
  {
   "cell_type": "code",
   "execution_count": 3,
   "metadata": {},
   "outputs": [
    {
     "data": {
      "text/plain": [
       "0.2376883444898575"
      ]
     },
     "execution_count": 3,
     "metadata": {},
     "output_type": "execute_result"
    }
   ],
   "source": [
    "group_a.mean()"
   ]
  },
  {
   "cell_type": "code",
   "execution_count": 4,
   "metadata": {},
   "outputs": [
    {
     "data": {
      "text/plain": [
       "0.23019595649474806"
      ]
     },
     "execution_count": 4,
     "metadata": {},
     "output_type": "execute_result"
    }
   ],
   "source": [
    "group_b.mean()"
   ]
  },
  {
   "cell_type": "code",
   "execution_count": 5,
   "metadata": {},
   "outputs": [
    {
     "data": {
      "text/plain": [
       "Ttest_indResult(statistic=0.010006789306280215, pvalue=0.992109030731323)"
      ]
     },
     "execution_count": 5,
     "metadata": {},
     "output_type": "execute_result"
    }
   ],
   "source": [
    "ttest_ind(group_a, group_b, equal_var=False)"
   ]
  },
  {
   "cell_type": "code",
   "execution_count": 6,
   "metadata": {},
   "outputs": [
    {
     "data": {
      "text/plain": [
       "Ttest_indResult(statistic=-0.4117133061428273, pvalue=0.6805501693553474)"
      ]
     },
     "execution_count": 6,
     "metadata": {},
     "output_type": "execute_result"
    }
   ],
   "source": [
    "#try again with really large samples and t-test should work\n",
    "ttest_ind(np.random.normal(loc=0, scale=1.0, size=100_000),\n",
    "          np.random.normal(loc=0, scale=2.0, size=100_000),\n",
    "          equal_var=False)"
   ]
  },
  {
   "cell_type": "markdown",
   "metadata": {},
   "source": [
    "If the null hypothesis was that two samples are similar, a p-value higher than 0.05 is not statistically significant and indicates weak evidence against the null hypothesis. \n",
    "This means we fail to reject the null hypothesis and cannot accept the alternative hypothesis."
   ]
  },
  {
   "cell_type": "markdown",
   "metadata": {},
   "source": [
    "##  Small Datasets Different in Mean"
   ]
  },
  {
   "cell_type": "code",
   "execution_count": 7,
   "metadata": {},
   "outputs": [
    {
     "name": "stdout",
     "output_type": "stream",
     "text": [
      "group a: \n",
      "[2.46812903e-10 1.41435549e-05 1.93299715e-05 1.00099302e-04\n",
      " 2.09122679e-02 8.30697505e-02 1.52185336e-01 2.62255886e-01\n",
      " 1.54658693e+00 4.45408822e+00 5.35992154e+00 2.13335192e+01\n",
      " 2.21845112e+01 1.35029663e+02 1.75857665e+02 3.61089054e+02\n",
      " 3.96366104e+04 5.37437501e+05 1.54855891e+06 7.58763687e+09]\n",
      "group a: \n",
      "[1.65610610e-02 2.56249394e-02 1.27557023e+00 1.30845541e+00\n",
      " 3.46085171e+00 3.94132103e+00 5.43618029e+01 1.06720265e+02\n",
      " 9.14666801e+02 1.07959439e+05 1.81185715e+05 8.33465043e+05\n",
      " 8.59010088e+05 1.45324185e+06 3.93570437e+06 7.85812745e+06\n",
      " 1.21356898e+07 2.23484787e+07 4.83806159e+08 4.96111847e+11]\n"
     ]
    }
   ],
   "source": [
    "#samples from lognormal\n",
    "lognorm_a = np.random.lognormal(mean=3, sigma=10, size=20)\n",
    "print('group a: \\n{}'.format(np.sort(lognorm_a)))\n",
    "\n",
    "lognorm_b = np.random.lognormal(mean=8, sigma=10, size=20)\n",
    "print('group a: \\n{}'.format(np.sort(lognorm_b)))\n"
   ]
  },
  {
   "cell_type": "code",
   "execution_count": 8,
   "metadata": {},
   "outputs": [
    {
     "data": {
      "text/plain": [
       "Ttest_indResult(statistic=-0.9857169568227586, pvalue=0.3305070116594748)"
      ]
     },
     "execution_count": 8,
     "metadata": {},
     "output_type": "execute_result"
    }
   ],
   "source": [
    "ttest_ind(lognorm_a, lognorm_b)"
   ]
  },
  {
   "cell_type": "markdown",
   "metadata": {},
   "source": [
    "Again, these are different distributions yet we fail to reject the null hypothesis."
   ]
  },
  {
   "cell_type": "markdown",
   "metadata": {},
   "source": [
    "# Implement the KS Test"
   ]
  },
  {
   "cell_type": "markdown",
   "metadata": {},
   "source": [
    "Suppose we have observations x1, x2, ...xn that we think come from a distribution P. The KS test is used to evaluate:\n",
    "- Null Hypothesis: The samples do indeed come from P\n",
    "- Alternative Hypothesis: The amples do not come from P\n",
    "\n",
    "To build intution for the KS test, we take a step back and consider descriptive statistics. Distributions sucha s the normal distribution are known to have a mean of 0 and a standard deviation of 1. Therefore we expect no more than 15% of the data to lie below the mean.\n",
    "\n",
    "In this task we will use the Cumulative Distribution Function (CDF). More specifically, we will use the Empirical Distribution Function (EDF): an estimate of the cumulative distribution function that generated the points in the sample.\n",
    "\n",
    "\n",
    "In the first example we want to compare the empirical distribution function of the observed data, with the cumulative distribution function associated with the null hypothesis (normal distribution).\n"
   ]
  },
  {
   "cell_type": "code",
   "execution_count": 9,
   "metadata": {},
   "outputs": [],
   "source": [
    "#generate random aray\n",
    "arr_1 = np.random.normal(0, 1.0, size=100)"
   ]
  },
  {
   "cell_type": "markdown",
   "metadata": {},
   "source": [
    "The cumulative distribution function uniquely characterizes a probability distribution.\n",
    "We want to compare the empirical distribution function of the data, **F_obs**, with the cumulative distribution function associated with the null hypothesis, **F_exp** (expected CDF)."
   ]
  },
  {
   "cell_type": "code",
   "execution_count": 10,
   "metadata": {},
   "outputs": [],
   "source": [
    "arr_1_edf = np.arange(1/len(arr_1), 1+1/len(arr_1), 1/len(arr_1))"
   ]
  },
  {
   "cell_type": "code",
   "execution_count": 11,
   "metadata": {},
   "outputs": [
    {
     "data": {
      "text/plain": [
       "array([0.01, 0.02, 0.03, 0.04, 0.05, 0.06, 0.07, 0.08, 0.09, 0.1 , 0.11,\n",
       "       0.12, 0.13, 0.14, 0.15, 0.16, 0.17, 0.18, 0.19, 0.2 , 0.21, 0.22,\n",
       "       0.23, 0.24, 0.25, 0.26, 0.27, 0.28, 0.29, 0.3 , 0.31, 0.32, 0.33,\n",
       "       0.34, 0.35, 0.36, 0.37, 0.38, 0.39, 0.4 , 0.41, 0.42, 0.43, 0.44,\n",
       "       0.45, 0.46, 0.47, 0.48, 0.49, 0.5 , 0.51, 0.52, 0.53, 0.54, 0.55,\n",
       "       0.56, 0.57, 0.58, 0.59, 0.6 , 0.61, 0.62, 0.63, 0.64, 0.65, 0.66,\n",
       "       0.67, 0.68, 0.69, 0.7 , 0.71, 0.72, 0.73, 0.74, 0.75, 0.76, 0.77,\n",
       "       0.78, 0.79, 0.8 , 0.81, 0.82, 0.83, 0.84, 0.85, 0.86, 0.87, 0.88,\n",
       "       0.89, 0.9 , 0.91, 0.92, 0.93, 0.94, 0.95, 0.96, 0.97, 0.98, 0.99,\n",
       "       1.  ])"
      ]
     },
     "execution_count": 11,
     "metadata": {},
     "output_type": "execute_result"
    }
   ],
   "source": [
    "arr_1_edf"
   ]
  },
  {
   "cell_type": "code",
   "execution_count": 12,
   "metadata": {
    "scrolled": false
   },
   "outputs": [],
   "source": [
    "#sort\n",
    "arr_1_sorted = np.sort(arr_1)\n",
    "#get cdf based on norm distribution\n",
    "cdf_null_hyp = [st.norm.cdf(x) for x in arr_1_sorted]"
   ]
  },
  {
   "cell_type": "code",
   "execution_count": 13,
   "metadata": {},
   "outputs": [
    {
     "data": {
      "text/plain": [
       "0.06868004577947195"
      ]
     },
     "execution_count": 13,
     "metadata": {},
     "output_type": "execute_result"
    }
   ],
   "source": [
    "#calculate absolute difference\n",
    "arr_dif_abs = np.abs(cdf_null_hyp-arr_1_edf)\n",
    "#get max different\n",
    "dn_ks = max(arr_dif_abs)\n",
    "dn_ks"
   ]
  },
  {
   "cell_type": "code",
   "execution_count": 14,
   "metadata": {},
   "outputs": [
    {
     "data": {
      "text/plain": [
       "0.136"
      ]
     },
     "execution_count": 14,
     "metadata": {},
     "output_type": "execute_result"
    }
   ],
   "source": [
    "dn_crit = 1.36/np.sqrt(len(arr_1))\n",
    "dn_crit"
   ]
  },
  {
   "cell_type": "code",
   "execution_count": 15,
   "metadata": {},
   "outputs": [
    {
     "data": {
      "image/png": "[encoded data removed]",
      "text/plain": [
       "<Figure size 720x360 with 1 Axes>"
      ]
     },
     "metadata": {
      "needs_background": "light"
     },
     "output_type": "display_data"
    }
   ],
   "source": [
    "plt.figure(figsize=(10, 5))\n",
    "plt.plot(arr_1_sorted, arr_1_edf, label='P(X)')\n",
    "plt.plot(arr_1_sorted, cdf_null_hyp, label='Q(X)')\n",
    "for x, y1, y2 in zip(arr_1_sorted, arr_1_edf, cdf_null_hyp):\n",
    "    plt.plot([x, x], [y1, y2], color='green', alpha=0.4)\n",
    "plt.legend()\n",
    "plt.ylabel(\"Q(x)\")\n",
    "plt.xlabel('P(X)')\n",
    "plt.title(\"KS - compare source distribution of a feature in training vs target distribution in inference\")\n",
    "plt.show()"
   ]
  },
  {
   "cell_type": "markdown",
   "metadata": {},
   "source": [
    "# KS For Two Samples"
   ]
  },
  {
   "cell_type": "markdown",
   "metadata": {},
   "source": [
    "Given two samples, test if their distributions are the same.Compute the observed cumulative distribution functions of the two samples and compute their maximum difference."
   ]
  },
  {
   "cell_type": "markdown",
   "metadata": {},
   "source": [
    "## Copy From Reference"
   ]
  },
  {
   "cell_type": "code",
   "execution_count": 16,
   "metadata": {},
   "outputs": [
    {
     "data": {
      "text/plain": [
       "array([ 1.2,  1.4,  1.9,  3.7,  4.4,  4.8,  5.6,  6.5,  6.6,  6.9,  9.2,\n",
       "        9.7, 10.4, 10.6, 17.3, 19.3, 21.1, 28.4])"
      ]
     },
     "execution_count": 16,
     "metadata": {},
     "output_type": "execute_result"
    }
   ],
   "source": [
    "x =[1.2, 1.4, 1.9, 3.7, 4.4, 4.8, 9.7, 17.3, 21.1, 28.4]\n",
    "y = [5.6, 6.5, 6.6, 6.9, 9.2, 10.4, 10.6, 19.3]\n",
    "\n",
    "x_y = np.sort(np.concatenate((x, y)))\n",
    "x_y"
   ]
  },
  {
   "cell_type": "code",
   "execution_count": 17,
   "metadata": {},
   "outputs": [],
   "source": [
    "x_cdf = [np.round(st.percentileofscore(x, samp)/100, 1) for samp in x_y]\n",
    "y_cdf = [np.round(st.percentileofscore(y, samp)/100, 1) for samp in x_y]"
   ]
  },
  {
   "cell_type": "code",
   "execution_count": 18,
   "metadata": {},
   "outputs": [
    {
     "data": {
      "image/png": "[encoded data removed]",
      "text/plain": [
       "<Figure size 432x288 with 1 Axes>"
      ]
     },
     "metadata": {
      "needs_background": "light"
     },
     "output_type": "display_data"
    }
   ],
   "source": [
    "plt.plot(x_y, x_cdf, label='x', alpha=0.5, marker='o', color='red')\n",
    "plt.plot(x_y, y_cdf, label='y', alpha=0.5, marker='o', color='green')\n",
    "plt.show()"
   ]
  },
  {
   "cell_type": "code",
   "execution_count": 19,
   "metadata": {},
   "outputs": [
    {
     "data": {
      "text/plain": [
       "array([0.1, 0.2, 0.3, 0.4, 0.5, 0.6, 0.5, 0.4, 0.2, 0.1, 0. , 0.1, 0.1,\n",
       "       0.2, 0.1, 0.2, 0.1, 0. ])"
      ]
     },
     "execution_count": 19,
     "metadata": {},
     "output_type": "execute_result"
    }
   ],
   "source": [
    "abs_diff_example = np.abs(np.subtract(x_cdf, y_cdf))\n",
    "abs_diff_example"
   ]
  },
  {
   "cell_type": "code",
   "execution_count": 20,
   "metadata": {},
   "outputs": [
    {
     "name": "stdout",
     "output_type": "stream",
     "text": [
      "0.6\n"
     ]
    }
   ],
   "source": [
    "print(max(abs_diff_example))"
   ]
  },
  {
   "cell_type": "code",
   "execution_count": 21,
   "metadata": {},
   "outputs": [],
   "source": [
    "def d_crit_two_way(arr1, arr2):\n",
    "    return 1.36*np.sqrt(len(arr1)**-1 + len(arr2)**-1)"
   ]
  },
  {
   "cell_type": "code",
   "execution_count": 22,
   "metadata": {},
   "outputs": [
    {
     "data": {
      "text/plain": [
       "0.6451046426743494"
      ]
     },
     "execution_count": 22,
     "metadata": {},
     "output_type": "execute_result"
    }
   ],
   "source": [
    "d_crit_two_way(x, y)"
   ]
  },
  {
   "cell_type": "code",
   "execution_count": null,
   "metadata": {},
   "outputs": [],
   "source": []
  },
  {
   "cell_type": "markdown",
   "metadata": {},
   "source": [
    "## Try Our Own Sample"
   ]
  },
  {
   "cell_type": "code",
   "execution_count": 23,
   "metadata": {},
   "outputs": [
    {
     "name": "stdout",
     "output_type": "stream",
     "text": [
      "samp_a:\n",
      "[-0.99562132 -0.90693358 -0.77291593 -0.69620218 -0.68727212 -0.50394572\n",
      " -0.50171551 -0.14922154  0.05597985  0.17528132  0.26611568  0.38908849\n",
      "  0.46657441  0.48971484  0.57112858  0.78727729  0.82241018  1.12095296\n",
      "  2.15263562  3.43157191]\n",
      "--------------------\n",
      "samp_b:\n",
      "[0.20876835 0.21523294 0.34064515 0.50948899 0.54329128 0.7934646\n",
      " 0.83983136 0.84158413 0.87009294 0.89999479 1.03371359 1.35265447\n",
      " 1.55344261 1.727699   1.74974813 1.82604357 2.04220273 2.36096382\n",
      " 2.36674949 2.50146852 2.57592482 2.80999311 2.92221053 3.35493259\n",
      " 6.29533371]\n",
      "--------------------\n",
      "samp_conc:\n",
      "[-0.99562132 -0.90693358 -0.77291593 -0.69620218 -0.68727212 -0.50394572\n",
      " -0.50171551 -0.14922154  0.05597985  0.17528132  0.20876835  0.21523294\n",
      "  0.26611568  0.34064515  0.38908849  0.46657441  0.48971484  0.50948899\n",
      "  0.54329128  0.57112858  0.78727729  0.7934646   0.82241018  0.83983136\n",
      "  0.84158413  0.87009294  0.89999479  1.03371359  1.12095296  1.35265447\n",
      "  1.55344261  1.727699    1.74974813  1.82604357  2.04220273  2.15263562\n",
      "  2.36096382  2.36674949  2.50146852  2.57592482  2.80999311  2.92221053\n",
      "  3.35493259  3.43157191  6.29533371]\n"
     ]
    }
   ],
   "source": [
    "#generate random samples from lognormal and sort\n",
    "samp_a = np.sort(np.random.normal(loc=0.0, scale=1.0, size=20))\n",
    "print(\"samp_a:\\n{}\".format(samp_a))\n",
    "print(20*'-')\n",
    "\n",
    "#generate random samples from lognormal and sort\n",
    "samp_b = np.sort(np.random.lognormal(mean=0, sigma=1.0, size=25))\n",
    "print(\"samp_b:\\n{}\".format(samp_b))\n",
    "print(20*'-')\n",
    "\n",
    "#concatenate and sort\n",
    "samp_conc = np.sort(np.concatenate((samp_a, samp_b)))\n",
    "print(\"samp_conc:\\n{}\".format(samp_conc))\n"
   ]
  },
  {
   "cell_type": "code",
   "execution_count": 24,
   "metadata": {},
   "outputs": [
    {
     "name": "stdout",
     "output_type": "stream",
     "text": [
      "samp_a_cdf:\n",
      "[0.0, 0.1, 0.2, 0.2, 0.2, 0.3, 0.4, 0.4, 0.4, 0.5, 0.5, 0.5, 0.6, 0.6, 0.6, 0.6, 0.7, 0.7, 0.7, 0.8, 0.8, 0.8, 0.8, 0.8, 0.8, 0.8, 0.8, 0.8, 0.9, 0.9, 0.9, 0.9, 0.9, 0.9, 0.9, 1.0, 1.0, 1.0, 1.0, 1.0, 1.0, 1.0, 1.0, 1.0, 1.0]\n",
      "--------------------\n",
      "samp_b_cdf:\n",
      "[0.0, 0.0, 0.0, 0.0, 0.0, 0.0, 0.0, 0.0, 0.0, 0.0, 0.0, 0.1, 0.1, 0.1, 0.1, 0.1, 0.1, 0.2, 0.2, 0.2, 0.2, 0.2, 0.2, 0.3, 0.3, 0.4, 0.4, 0.4, 0.4, 0.5, 0.5, 0.6, 0.6, 0.6, 0.7, 0.7, 0.7, 0.8, 0.8, 0.8, 0.9, 0.9, 1.0, 1.0, 1.0]\n",
      "--------------------\n",
      "samp_diff:\n",
      "[0.  0.1 0.2 0.2 0.2 0.3 0.4 0.4 0.4 0.5 0.5 0.4 0.5 0.5 0.5 0.5 0.6 0.5\n",
      " 0.5 0.6 0.6 0.6 0.6 0.5 0.5 0.4 0.4 0.4 0.5 0.4 0.4 0.3 0.3 0.3 0.2 0.3\n",
      " 0.3 0.2 0.2 0.2 0.1 0.1 0.  0.  0. ]\n"
     ]
    }
   ],
   "source": [
    "#cdf of sample a\n",
    "samp_a_cdf = [np.round(st.percentileofscore(samp_a, value)/100, 1) for value in samp_conc]\n",
    "print('samp_a_cdf:\\n{}'.format(samp_a_cdf))\n",
    "print(20*'-')\n",
    "\n",
    "#cdf of sample b\n",
    "samp_b_cdf = [np.round(st.percentileofscore(samp_b, value)/100, 1) for value in samp_conc]\n",
    "print('samp_b_cdf:\\n{}'.format(samp_b_cdf))\n",
    "print(20*'-')\n",
    "\n",
    "#compute absolute difference\n",
    "samp_diff = np.abs(np.subtract(samp_a_cdf, samp_b_cdf))\n",
    "print('samp_diff:\\n{}'.format(samp_diff))"
   ]
  },
  {
   "cell_type": "code",
   "execution_count": 25,
   "metadata": {},
   "outputs": [
    {
     "name": "stdout",
     "output_type": "stream",
     "text": [
      "0.6000000000000001\n"
     ]
    }
   ],
   "source": [
    "print(max(samp_diff))"
   ]
  },
  {
   "cell_type": "code",
   "execution_count": 30,
   "metadata": {},
   "outputs": [
    {
     "data": {
      "image/png": "[encoded data removed]",
      "text/plain": [
       "<Figure size 720x360 with 1 Axes>"
      ]
     },
     "metadata": {
      "needs_background": "light"
     },
     "output_type": "display_data"
    }
   ],
   "source": [
    "plt.figure(figsize=(10, 5))\n",
    "plt.plot(samp_conc, samp_a_cdf, label='P(X)')\n",
    "plt.plot(samp_conc, samp_b_cdf, label='Q(X)')\n",
    "\n",
    "for val, p1, p2 in zip(samp_conc, samp_a_cdf, samp_b_cdf):\n",
    "    plt.plot([val, val], [p1, p2], color='green', alpha=0.2)\n",
    "\n",
    "plt.legend()\n",
    "plt.ylabel(\"CDF(X)\")\n",
    "plt.xlabel('X')\n",
    "plt.title(\"KS - compare source distribution of a feature in training vs target distribution in inference\")\n",
    "\n",
    "plt.show()"
   ]
  },
  {
   "cell_type": "code",
   "execution_count": 27,
   "metadata": {},
   "outputs": [
    {
     "data": {
      "text/plain": [
       "0.40800000000000003"
      ]
     },
     "execution_count": 27,
     "metadata": {},
     "output_type": "execute_result"
    }
   ],
   "source": [
    "d_crit_two_way(samp_a, samp_b)"
   ]
  },
  {
   "cell_type": "code",
   "execution_count": null,
   "metadata": {},
   "outputs": [],
   "source": []
  }
 ],
 "metadata": {
  "kernelspec": {
   "display_name": "Python 3",
   "language": "python",
   "name": "python3"
  },
  "language_info": {
   "codemirror_mode": {
    "name": "ipython",
    "version": 3
   },
   "file_extension": ".py",
   "mimetype": "text/x-python",
   "name": "python",
   "nbconvert_exporter": "python",
   "pygments_lexer": "ipython3",
   "version": "3.9.5"
  }
 },
 "nbformat": 4,
 "nbformat_minor": 2
}
