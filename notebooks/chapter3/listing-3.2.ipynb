{
 "cells": [
  {
   "cell_type": "code",
   "execution_count": null,
   "id": "dying-afternoon",
   "metadata": {},
   "outputs": [],
   "source": [
    "import hsfs\n",
    "connection = hsfs.connection(\n",
    "    host=\"8ee70ae0-9c91-11ec-a00c-8db997ac0d25.cloud.hopsworks.ai\", # change 'host' to point to your cluster\n",
    "    project=\"fsbook\",   # create a project called 'fsbook' in your Hopsworks cluster\n",
    "    engine=\"hive\",\n",
    "    secrets_store=\"local\",\n",
    "    api_key_file=\"./api-key.txt\"\n",
    ")\n",
    "fs = connection.get_feature_store()"
   ]
  },
  {
   "cell_type": "code",
   "execution_count": null,
   "id": "developing-characterization",
   "metadata": {},
   "outputs": [],
   "source": [
    "import pandas as pd\n",
    "orders_df = pd.read_csv(\"../../data/ecommerce/order.csv\", index_col=0,\n",
    "                        infer_datetime_format=True,\n",
    "                        parse_dates=['order_purchase_timestamp', 'order_approved_at',\n",
    "                                     'order_delivered_carrier_date', 'order_delivered_customer_date',\n",
    "                                     'order_estimated_delivery_date'])\n",
    "orders_df"
   ]
  },
  {
   "cell_type": "code",
   "execution_count": null,
   "id": "approximate-component",
   "metadata": {},
   "outputs": [],
   "source": [
    "orders_fg = fs.create_feature_group(name=\"orders\",\n",
    "                                    version=1,\n",
    "                                    primary_key=['order_id'],\n",
    "                                    online=True,\n",
    "                                    description=\"Order features\")\n",
    "orders_fg.save(orders_df)"
   ]
  }
 ],
 "metadata": {
  "kernelspec": {
   "display_name": "Python 3",
   "language": "python",
   "name": "python3"
  },
  "language_info": {
   "codemirror_mode": {
    "name": "ipython",
    "version": 3
   },
   "file_extension": ".py",
   "mimetype": "text/x-python",
   "name": "python",
   "nbconvert_exporter": "python",
   "pygments_lexer": "ipython3",
   "version": "3.9.5"
  }
 },
 "nbformat": 4,
 "nbformat_minor": 5
}
