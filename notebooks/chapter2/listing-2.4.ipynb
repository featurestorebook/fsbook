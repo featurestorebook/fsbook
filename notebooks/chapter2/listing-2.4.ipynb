{
 "cells": [
  {
   "cell_type": "code",
   "execution_count": null,
   "id": "dying-afternoon",
   "metadata": {},
   "outputs": [],
   "source": [
    "import hsfs\n",
    "connection = hsfs.connection(\n",
    "    host=\"8ee70ae0-9c91-11ec-a00c-8db997ac0d25.cloud.hopsworks.ai\", # change 'host' to point to your cluster\n",
    "    project=\"fsbook\",   # create a project called 'fsbook' in your Hopsworks cluster\n",
    "    engine=\"hive\",\n",
    "    secrets_store=\"local\",\n",
    "    api_key_file=\"./api-key.txt\"\n",
    ")\n",
    "fs = connection.get_feature_store()"
   ]
  },
  {
   "cell_type": "code",
   "execution_count": null,
   "id": "surprised-stadium",
   "metadata": {},
   "outputs": [],
   "source": [
    "import pandas as pd\n",
    "\n",
    "product_fg = fg.get_feature_group(“product_fg”, version=1)\n",
    "\n",
    "df_latest = product_fg.read(online=True)\n",
    "df_latest"
   ]
  },
  {
   "cell_type": "code",
   "execution_count": null,
   "id": "serial-merchant",
   "metadata": {},
   "outputs": [],
   "source": [
    "\n",
    "df_historical = product_fg.read()\n",
    "df_historical"
   ]
  }
 ],
 "metadata": {
  "kernelspec": {
   "display_name": "Python 3",
   "language": "python",
   "name": "python3"
  },
  "language_info": {
   "codemirror_mode": {
    "name": "ipython",
    "version": 3
   },
   "file_extension": ".py",
   "mimetype": "text/x-python",
   "name": "python",
   "nbconvert_exporter": "python",
   "pygments_lexer": "ipython3",
   "version": "3.9.5"
  }
 },
 "nbformat": 4,
 "nbformat_minor": 5
}
