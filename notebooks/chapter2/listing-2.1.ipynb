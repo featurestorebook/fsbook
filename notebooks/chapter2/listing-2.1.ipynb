{
 "cells": [
  {
   "cell_type": "code",
   "execution_count": 3,
   "id": "severe-speech",
   "metadata": {},
   "outputs": [
    {
     "name": "stdout",
     "output_type": "stream",
     "text": [
      "Collecting hsfs[python]\n",
      "  Cloning https://github.com/logicalclocks/feature-store-api (to revision master) to /tmp/pip-install-r_dmj_2i/hsfs_2737ae2d8f734a9bb5af398d05de30ea\n",
      "  Running command git clone -q https://github.com/logicalclocks/feature-store-api /tmp/pip-install-r_dmj_2i/hsfs_2737ae2d8f734a9bb5af398d05de30ea\n",
      "  Resolved https://github.com/logicalclocks/feature-store-api to commit 0311396e29f2352dd68f95798b0a603b8172f1fb\n",
      "Requirement already satisfied: pyhumps==1.6.1 in /home/jdowling/anaconda3/envs/38/lib/python3.8/site-packages (from hsfs[python]) (1.6.1)\n",
      "Requirement already satisfied: requests in /home/jdowling/anaconda3/envs/38/lib/python3.8/site-packages (from hsfs[python]) (2.27.1)\n",
      "Requirement already satisfied: furl in /home/jdowling/anaconda3/envs/38/lib/python3.8/site-packages (from hsfs[python]) (2.1.3)\n",
      "Requirement already satisfied: boto3 in /home/jdowling/anaconda3/envs/38/lib/python3.8/site-packages (from hsfs[python]) (1.22.12)\n",
      "Requirement already satisfied: pandas>=1.2.0 in /home/jdowling/anaconda3/envs/38/lib/python3.8/site-packages (from hsfs[python]) (1.4.2)\n",
      "Requirement already satisfied: numpy in /home/jdowling/anaconda3/envs/38/lib/python3.8/site-packages (from hsfs[python]) (1.22.3)\n",
      "Requirement already satisfied: pyjks in /home/jdowling/anaconda3/envs/38/lib/python3.8/site-packages (from hsfs[python]) (20.0.0)\n",
      "Requirement already satisfied: mock in /home/jdowling/anaconda3/envs/38/lib/python3.8/site-packages (from hsfs[python]) (4.0.3)\n",
      "Requirement already satisfied: avro==1.10.2 in /home/jdowling/anaconda3/envs/38/lib/python3.8/site-packages (from hsfs[python]) (1.10.2)\n",
      "Requirement already satisfied: sqlalchemy in /home/jdowling/anaconda3/envs/38/lib/python3.8/site-packages (from hsfs[python]) (1.4.36)\n",
      "Requirement already satisfied: PyMySQL[rsa] in /home/jdowling/anaconda3/envs/38/lib/python3.8/site-packages (from hsfs[python]) (1.0.2)\n",
      "Requirement already satisfied: pyhopshive[thrift] in /home/jdowling/anaconda3/envs/38/lib/python3.8/site-packages (from hsfs[python]) (0.6.4.1.dev0)\n",
      "Requirement already satisfied: pyarrow in /home/jdowling/anaconda3/envs/38/lib/python3.8/site-packages (from hsfs[python]) (8.0.0)\n",
      "Requirement already satisfied: confluent-kafka==1.3.0 in /home/jdowling/anaconda3/envs/38/lib/python3.8/site-packages (from hsfs[python]) (1.3.0)\n",
      "Requirement already satisfied: fastavro==1.4.11 in /home/jdowling/anaconda3/envs/38/lib/python3.8/site-packages (from hsfs[python]) (1.4.11)\n",
      "Requirement already satisfied: python-dateutil>=2.8.1 in /home/jdowling/anaconda3/envs/38/lib/python3.8/site-packages (from pandas>=1.2.0->hsfs[python]) (2.8.2)\n",
      "Requirement already satisfied: pytz>=2020.1 in /home/jdowling/anaconda3/envs/38/lib/python3.8/site-packages (from pandas>=1.2.0->hsfs[python]) (2022.1)\n",
      "Requirement already satisfied: six>=1.5 in /home/jdowling/anaconda3/envs/38/lib/python3.8/site-packages (from python-dateutil>=2.8.1->pandas>=1.2.0->hsfs[python]) (1.16.0)\n",
      "Requirement already satisfied: botocore<1.26.0,>=1.25.12 in /home/jdowling/anaconda3/envs/38/lib/python3.8/site-packages (from boto3->hsfs[python]) (1.25.12)\n",
      "Requirement already satisfied: jmespath<2.0.0,>=0.7.1 in /home/jdowling/anaconda3/envs/38/lib/python3.8/site-packages (from boto3->hsfs[python]) (1.0.0)\n",
      "Requirement already satisfied: s3transfer<0.6.0,>=0.5.0 in /home/jdowling/anaconda3/envs/38/lib/python3.8/site-packages (from boto3->hsfs[python]) (0.5.2)\n",
      "Requirement already satisfied: urllib3<1.27,>=1.25.4 in /home/jdowling/anaconda3/envs/38/lib/python3.8/site-packages (from botocore<1.26.0,>=1.25.12->boto3->hsfs[python]) (1.26.9)\n",
      "Requirement already satisfied: orderedmultidict>=1.0.1 in /home/jdowling/anaconda3/envs/38/lib/python3.8/site-packages (from furl->hsfs[python]) (1.0.1)\n",
      "Requirement already satisfied: future in /home/jdowling/anaconda3/envs/38/lib/python3.8/site-packages (from pyhopshive[thrift]->hsfs[python]) (0.18.2)\n",
      "Requirement already satisfied: thrift>=0.10.0 in /home/jdowling/anaconda3/envs/38/lib/python3.8/site-packages (from pyhopshive[thrift]->hsfs[python]) (0.16.0)\n",
      "Requirement already satisfied: pyasn1-modules in /home/jdowling/anaconda3/envs/38/lib/python3.8/site-packages (from pyjks->hsfs[python]) (0.2.8)\n",
      "Requirement already satisfied: javaobj-py3 in /home/jdowling/anaconda3/envs/38/lib/python3.8/site-packages (from pyjks->hsfs[python]) (0.4.3)\n",
      "Requirement already satisfied: pycryptodomex in /home/jdowling/anaconda3/envs/38/lib/python3.8/site-packages (from pyjks->hsfs[python]) (3.14.1)\n",
      "Requirement already satisfied: pyasn1>=0.3.5 in /home/jdowling/anaconda3/envs/38/lib/python3.8/site-packages (from pyjks->hsfs[python]) (0.4.8)\n",
      "Requirement already satisfied: twofish in /home/jdowling/anaconda3/envs/38/lib/python3.8/site-packages (from pyjks->hsfs[python]) (0.3.0)\n",
      "Requirement already satisfied: cryptography in /home/jdowling/anaconda3/envs/38/lib/python3.8/site-packages (from PyMySQL[rsa]->hsfs[python]) (37.0.2)\n",
      "Requirement already satisfied: cffi>=1.12 in /home/jdowling/anaconda3/envs/38/lib/python3.8/site-packages (from cryptography->PyMySQL[rsa]->hsfs[python]) (1.15.0)\n",
      "Requirement already satisfied: pycparser in /home/jdowling/anaconda3/envs/38/lib/python3.8/site-packages (from cffi>=1.12->cryptography->PyMySQL[rsa]->hsfs[python]) (2.21)\n",
      "Requirement already satisfied: idna<4,>=2.5 in /home/jdowling/anaconda3/envs/38/lib/python3.8/site-packages (from requests->hsfs[python]) (3.3)\n",
      "Requirement already satisfied: certifi>=2017.4.17 in /home/jdowling/anaconda3/envs/38/lib/python3.8/site-packages (from requests->hsfs[python]) (2021.10.8)\n",
      "Requirement already satisfied: charset-normalizer~=2.0.0 in /home/jdowling/anaconda3/envs/38/lib/python3.8/site-packages (from requests->hsfs[python]) (2.0.12)\n",
      "Requirement already satisfied: greenlet!=0.4.17 in /home/jdowling/anaconda3/envs/38/lib/python3.8/site-packages (from sqlalchemy->hsfs[python]) (1.1.2)\n"
     ]
    }
   ],
   "source": [
    "!pip3 install 'git+https://github.com/logicalclocks/feature-store-api@master#egg=hsfs[python]&subdirectory=python'"
   ]
  },
  {
   "cell_type": "code",
   "execution_count": 4,
   "id": "correct-cyprus",
   "metadata": {},
   "outputs": [
    {
     "ename": "ModuleNotFoundError",
     "evalue": "No module named 'hsfs'",
     "output_type": "error",
     "traceback": [
      "\u001b[0;31m---------------------------------------------------------------------------\u001b[0m",
      "\u001b[0;31mModuleNotFoundError\u001b[0m                       Traceback (most recent call last)",
      "\u001b[0;32m<ipython-input-4-e5e0a704cd12>\u001b[0m in \u001b[0;36m<module>\u001b[0;34m\u001b[0m\n\u001b[0;32m----> 1\u001b[0;31m \u001b[0;32mimport\u001b[0m \u001b[0mhsfs\u001b[0m\u001b[0;34m\u001b[0m\u001b[0;34m\u001b[0m\u001b[0m\n\u001b[0m\u001b[1;32m      2\u001b[0m \u001b[0;34m\u001b[0m\u001b[0m\n\u001b[1;32m      3\u001b[0m connection = hsfs.connection(\n\u001b[1;32m      4\u001b[0m     \u001b[0mhost\u001b[0m\u001b[0;34m=\u001b[0m\u001b[0;34m\"34.76.228.239\"\u001b[0m\u001b[0;34m,\u001b[0m \u001b[0;31m# change 'host' to point to your cluster\u001b[0m\u001b[0;34m\u001b[0m\u001b[0;34m\u001b[0m\u001b[0m\n\u001b[1;32m      5\u001b[0m     \u001b[0mproject\u001b[0m\u001b[0;34m=\u001b[0m\u001b[0;34m\"fsbook\"\u001b[0m\u001b[0;34m,\u001b[0m   \u001b[0;31m# create a project called 'fsbook' in your Hopsworks cluster\u001b[0m\u001b[0;34m\u001b[0m\u001b[0;34m\u001b[0m\u001b[0m\n",
      "\u001b[0;31mModuleNotFoundError\u001b[0m: No module named 'hsfs'"
     ]
    }
   ],
   "source": [
    "import hsfs\n",
    "\n",
    "connection = hsfs.connection(\n",
    "    host=\"34.76.228.239\", # change 'host' to point to your cluster\n",
    "    project=\"fsbook\",   # create a project called 'fsbook' in your Hopsworks cluster\n",
    "    secrets_store=\"local\",\n",
    "    api_key_file=\"./api-key.txt\"\n",
    ")\n",
    "fs = connection.get_feature_store()\n",
    "\n"
   ]
  },
  {
   "cell_type": "code",
   "execution_count": null,
   "id": "aging-thompson",
   "metadata": {},
   "outputs": [],
   "source": [
    "fgs = fs.get_feature_groups(\"teams_features\")\n",
    "for fg in fgs:\n",
    "    print(fg.name + \" : version - \" + str(fg.version))"
   ]
  }
 ],
 "metadata": {
  "kernelspec": {
   "display_name": "Python 3 (ipykernel)",
   "language": "python",
   "name": "python3"
  },
  "language_info": {
   "codemirror_mode": {
    "name": "ipython",
    "version": 3
   },
   "file_extension": ".py",
   "mimetype": "text/x-python",
   "name": "python",
   "nbconvert_exporter": "python",
   "pygments_lexer": "ipython3",
   "version": "3.9.7"
  }
 },
 "nbformat": 4,
 "nbformat_minor": 5
}
