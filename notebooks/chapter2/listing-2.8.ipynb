{
 "cells": [
  {
   "cell_type": "code",
   "execution_count": null,
   "id": "dying-afternoon",
   "metadata": {},
   "outputs": [],
   "source": [
    "import hsfs\n",
    "connection = hsfs.connection(\n",
    "    host=\"8ee70ae0-9c91-11ec-a00c-8db997ac0d25.cloud.hopsworks.ai\", # change 'host' to point to your cluster\n",
    "    project=\"fsbook\",   # create a project called 'fsbook' in your Hopsworks cluster\n",
    "    engine=\"hive\",\n",
    "    secrets_store=\"local\",\n",
    "    api_key_file=\"./api-key.txt\"\n",
    ")\n",
    "fs = connection.get_feature_store()"
   ]
  },
  {
   "cell_type": "code",
   "execution_count": null,
   "id": "developing-characterization",
   "metadata": {},
   "outputs": [],
   "source": [
    "feature_view = fs.get_feature_view(\"product_orders\")\n",
    "\n",
    "product_id = \"1e9e8ef04dbcff4541ed26657ea517e5\"\n",
    "\n",
    "feature_vector = feature_view.get_feature_vector(keys={'product_id' : product_id})\n",
    "\n",
    "print(feature_vector)"
   ]
  }
 ],
 "metadata": {
  "kernelspec": {
   "display_name": "Python 3",
   "language": "python",
   "name": "python3"
  },
  "language_info": {
   "codemirror_mode": {
    "name": "ipython",
    "version": 3
   },
   "file_extension": ".py",
   "mimetype": "text/x-python",
   "name": "python",
   "nbconvert_exporter": "python",
   "pygments_lexer": "ipython3",
   "version": "3.9.5"
  }
 },
 "nbformat": 4,
 "nbformat_minor": 5
}
